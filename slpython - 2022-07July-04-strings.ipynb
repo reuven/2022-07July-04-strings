{
 "cells": [
  {
   "cell_type": "markdown",
   "metadata": {},
   "source": [
    "# Agenda: Strings in Python\n",
    "\n",
    "1. What are strings?\n",
    "2. Defining simple strings\n",
    "3. Retrieving from strings\n",
    "4. String methods\n",
    "5. Looping over strings"
   ]
  },
  {
   "cell_type": "markdown",
   "metadata": {},
   "source": [
    "# What's a string?\n",
    "\n",
    "Strings are for working with text. They're the text data structure.\n",
    "\n",
    "Any time we deal with text in Python, we're using strings:\n",
    "\n",
    "- The empty string `''`\n",
    "- A character (there is no \"char\" data structure in Python -- it's just a one-character string)\n",
    "- Words\n",
    "- Sentences\n",
    "- Entire files\n",
    "\n",
    "Any time you have text, of any size, it's a string in Python."
   ]
  },
  {
   "cell_type": "markdown",
   "metadata": {},
   "source": [
    "# Creating strings\n",
    "\n",
    "In Python, there is *NO* difference between `''` and `\"\"`.  You can use either one.  The convention in the Python world is to use `''` (single quotes), unless you don't have an option.\n",
    "\n"
   ]
  },
  {
   "cell_type": "code",
   "execution_count": 1,
   "metadata": {},
   "outputs": [],
   "source": [
    "s = 'abcde'  # I'm creating a string object, and assigning it to the variable s"
   ]
  },
  {
   "cell_type": "code",
   "execution_count": null,
   "metadata": {},
   "outputs": [],
   "source": []
  }
 ],
 "metadata": {
  "kernelspec": {
   "display_name": "Python 3 (ipykernel)",
   "language": "python",
   "name": "python3"
  },
  "language_info": {
   "codemirror_mode": {
    "name": "ipython",
    "version": 3
   },
   "file_extension": ".py",
   "mimetype": "text/x-python",
   "name": "python",
   "nbconvert_exporter": "python",
   "pygments_lexer": "ipython3",
   "version": "3.10.5"
  }
 },
 "nbformat": 4,
 "nbformat_minor": 4
}
