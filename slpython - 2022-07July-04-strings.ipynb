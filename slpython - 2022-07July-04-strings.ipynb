{
 "cells": [
  {
   "cell_type": "markdown",
   "metadata": {},
   "source": [
    "# Agenda: Strings in Python\n",
    "\n",
    "1. What are strings?\n",
    "2. Defining simple strings\n",
    "3. Retrieving from strings\n",
    "4. String methods\n",
    "5. Looping over strings"
   ]
  },
  {
   "cell_type": "markdown",
   "metadata": {},
   "source": [
    "# What's a string?\n",
    "\n",
    "Strings are for working with text. They're the text data structure.\n",
    "\n",
    "Any time we deal with text in Python, we're using strings:"
   ]
  }
 ],
 "metadata": {
  "kernelspec": {
   "display_name": "Python 3 (ipykernel)",
   "language": "python",
   "name": "python3"
  },
  "language_info": {
   "codemirror_mode": {
    "name": "ipython",
    "version": 3
   },
   "file_extension": ".py",
   "mimetype": "text/x-python",
   "name": "python",
   "nbconvert_exporter": "python",
   "pygments_lexer": "ipython3",
   "version": "3.10.5"
  }
 },
 "nbformat": 4,
 "nbformat_minor": 4
}
